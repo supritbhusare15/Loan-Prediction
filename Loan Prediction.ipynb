{
 "cells": [
  {
   "cell_type": "markdown",
   "metadata": {},
   "source": [
    "# Loan Prediction"
   ]
  },
  {
   "cell_type": "code",
   "execution_count": 1,
   "metadata": {},
   "outputs": [],
   "source": [
    "import pandas as pd\n",
    "import numpy as np\n",
    "import seaborn as sns\n",
    "import matplotlib.pyplot as plt\n",
    "import warnings\n",
    "warnings.filterwarnings('ignore')"
   ]
  },
  {
   "cell_type": "code",
   "execution_count": 2,
   "metadata": {},
   "outputs": [],
   "source": [
    "# Import the os package\n",
    "import os\n",
    "\n",
    "# Confirm the current working directory \n",
    "os.getcwd()\n",
    "\n",
    "# Use '\\\\' while changing the directory \n",
    "os.chdir(r\"C:\\Users\\SEXY\\Desktop\\DSE\\Practice Datasets\\Loan Prediction\")\n"
   ]
  },
  {
   "cell_type": "code",
   "execution_count": 3,
   "metadata": {},
   "outputs": [],
   "source": [
    "train = pd.read_csv('train.csv')\n",
    "test = pd.read_csv('test.csv')"
   ]
  },
  {
   "cell_type": "code",
   "execution_count": 4,
   "metadata": {},
   "outputs": [
    {
     "data": {
      "text/plain": [
       "(614, 13)"
      ]
     },
     "execution_count": 4,
     "metadata": {},
     "output_type": "execute_result"
    }
   ],
   "source": [
    "train.shape"
   ]
  },
  {
   "cell_type": "code",
   "execution_count": 5,
   "metadata": {},
   "outputs": [
    {
     "data": {
      "text/html": [
       "<div>\n",
       "<style scoped>\n",
       "    .dataframe tbody tr th:only-of-type {\n",
       "        vertical-align: middle;\n",
       "    }\n",
       "\n",
       "    .dataframe tbody tr th {\n",
       "        vertical-align: top;\n",
       "    }\n",
       "\n",
       "    .dataframe thead th {\n",
       "        text-align: right;\n",
       "    }\n",
       "</style>\n",
       "<table border=\"1\" class=\"dataframe\">\n",
       "  <thead>\n",
       "    <tr style=\"text-align: right;\">\n",
       "      <th></th>\n",
       "      <th>Loan_ID</th>\n",
       "      <th>Gender</th>\n",
       "      <th>Married</th>\n",
       "      <th>Dependents</th>\n",
       "      <th>Education</th>\n",
       "      <th>Self_Employed</th>\n",
       "      <th>ApplicantIncome</th>\n",
       "      <th>CoapplicantIncome</th>\n",
       "      <th>LoanAmount</th>\n",
       "      <th>Loan_Amount_Term</th>\n",
       "      <th>Credit_History</th>\n",
       "      <th>Property_Area</th>\n",
       "      <th>Loan_Status</th>\n",
       "    </tr>\n",
       "  </thead>\n",
       "  <tbody>\n",
       "    <tr>\n",
       "      <th>0</th>\n",
       "      <td>LP001002</td>\n",
       "      <td>Male</td>\n",
       "      <td>No</td>\n",
       "      <td>0</td>\n",
       "      <td>Graduate</td>\n",
       "      <td>No</td>\n",
       "      <td>5849</td>\n",
       "      <td>0.0</td>\n",
       "      <td>NaN</td>\n",
       "      <td>360.0</td>\n",
       "      <td>1.0</td>\n",
       "      <td>Urban</td>\n",
       "      <td>Y</td>\n",
       "    </tr>\n",
       "    <tr>\n",
       "      <th>1</th>\n",
       "      <td>LP001003</td>\n",
       "      <td>Male</td>\n",
       "      <td>Yes</td>\n",
       "      <td>1</td>\n",
       "      <td>Graduate</td>\n",
       "      <td>No</td>\n",
       "      <td>4583</td>\n",
       "      <td>1508.0</td>\n",
       "      <td>128.0</td>\n",
       "      <td>360.0</td>\n",
       "      <td>1.0</td>\n",
       "      <td>Rural</td>\n",
       "      <td>N</td>\n",
       "    </tr>\n",
       "    <tr>\n",
       "      <th>2</th>\n",
       "      <td>LP001005</td>\n",
       "      <td>Male</td>\n",
       "      <td>Yes</td>\n",
       "      <td>0</td>\n",
       "      <td>Graduate</td>\n",
       "      <td>Yes</td>\n",
       "      <td>3000</td>\n",
       "      <td>0.0</td>\n",
       "      <td>66.0</td>\n",
       "      <td>360.0</td>\n",
       "      <td>1.0</td>\n",
       "      <td>Urban</td>\n",
       "      <td>Y</td>\n",
       "    </tr>\n",
       "    <tr>\n",
       "      <th>3</th>\n",
       "      <td>LP001006</td>\n",
       "      <td>Male</td>\n",
       "      <td>Yes</td>\n",
       "      <td>0</td>\n",
       "      <td>Not Graduate</td>\n",
       "      <td>No</td>\n",
       "      <td>2583</td>\n",
       "      <td>2358.0</td>\n",
       "      <td>120.0</td>\n",
       "      <td>360.0</td>\n",
       "      <td>1.0</td>\n",
       "      <td>Urban</td>\n",
       "      <td>Y</td>\n",
       "    </tr>\n",
       "    <tr>\n",
       "      <th>4</th>\n",
       "      <td>LP001008</td>\n",
       "      <td>Male</td>\n",
       "      <td>No</td>\n",
       "      <td>0</td>\n",
       "      <td>Graduate</td>\n",
       "      <td>No</td>\n",
       "      <td>6000</td>\n",
       "      <td>0.0</td>\n",
       "      <td>141.0</td>\n",
       "      <td>360.0</td>\n",
       "      <td>1.0</td>\n",
       "      <td>Urban</td>\n",
       "      <td>Y</td>\n",
       "    </tr>\n",
       "  </tbody>\n",
       "</table>\n",
       "</div>"
      ],
      "text/plain": [
       "    Loan_ID Gender Married Dependents     Education Self_Employed  \\\n",
       "0  LP001002   Male      No          0      Graduate            No   \n",
       "1  LP001003   Male     Yes          1      Graduate            No   \n",
       "2  LP001005   Male     Yes          0      Graduate           Yes   \n",
       "3  LP001006   Male     Yes          0  Not Graduate            No   \n",
       "4  LP001008   Male      No          0      Graduate            No   \n",
       "\n",
       "   ApplicantIncome  CoapplicantIncome  LoanAmount  Loan_Amount_Term  \\\n",
       "0             5849                0.0         NaN             360.0   \n",
       "1             4583             1508.0       128.0             360.0   \n",
       "2             3000                0.0        66.0             360.0   \n",
       "3             2583             2358.0       120.0             360.0   \n",
       "4             6000                0.0       141.0             360.0   \n",
       "\n",
       "   Credit_History Property_Area Loan_Status  \n",
       "0             1.0         Urban           Y  \n",
       "1             1.0         Rural           N  \n",
       "2             1.0         Urban           Y  \n",
       "3             1.0         Urban           Y  \n",
       "4             1.0         Urban           Y  "
      ]
     },
     "execution_count": 5,
     "metadata": {},
     "output_type": "execute_result"
    }
   ],
   "source": [
    "train.head()"
   ]
  },
  {
   "cell_type": "code",
   "execution_count": 6,
   "metadata": {},
   "outputs": [
    {
     "name": "stdout",
     "output_type": "stream",
     "text": [
      "<class 'pandas.core.frame.DataFrame'>\n",
      "RangeIndex: 614 entries, 0 to 613\n",
      "Data columns (total 13 columns):\n",
      "Loan_ID              614 non-null object\n",
      "Gender               601 non-null object\n",
      "Married              611 non-null object\n",
      "Dependents           599 non-null object\n",
      "Education            614 non-null object\n",
      "Self_Employed        582 non-null object\n",
      "ApplicantIncome      614 non-null int64\n",
      "CoapplicantIncome    614 non-null float64\n",
      "LoanAmount           592 non-null float64\n",
      "Loan_Amount_Term     600 non-null float64\n",
      "Credit_History       564 non-null float64\n",
      "Property_Area        614 non-null object\n",
      "Loan_Status          614 non-null object\n",
      "dtypes: float64(4), int64(1), object(8)\n",
      "memory usage: 62.4+ KB\n"
     ]
    }
   ],
   "source": [
    "train.info()"
   ]
  },
  {
   "cell_type": "code",
   "execution_count": 7,
   "metadata": {},
   "outputs": [
    {
     "data": {
      "text/plain": [
       "[]"
      ]
     },
     "execution_count": 7,
     "metadata": {},
     "output_type": "execute_result"
    },
    {
     "data": {
      "image/png": "[encoded data removed]",
      "text/plain": [
       "<Figure size 968.75x900 with 30 Axes>"
      ]
     },
     "metadata": {
      "needs_background": "light"
     },
     "output_type": "display_data"
    }
   ],
   "source": [
    "sns.pairplot(train,diag_kind='kde',hue='Loan_Status')\n",
    "plt.plot()"
   ]
  },
  {
   "cell_type": "code",
   "execution_count": 12,
   "metadata": {},
   "outputs": [
    {
     "data": {
      "text/plain": [
       "[]"
      ]
     },
     "execution_count": 12,
     "metadata": {},
     "output_type": "execute_result"
    },
    {
     "data": {
      "image/png": "[encoded data removed]",
      "text/plain": [
       "<Figure size 720x576 with 2 Axes>"
      ]
     },
     "metadata": {
      "needs_background": "light"
     },
     "output_type": "display_data"
    }
   ],
   "source": [
    "cor = train.corr()\n",
    "plt.figure(figsize=(10,8))\n",
    "sns.heatmap(cor,annot=True,cmap='YlGnBu_r')\n",
    "plt.plot()"
   ]
  },
  {
   "cell_type": "code",
   "execution_count": 13,
   "metadata": {},
   "outputs": [
    {
     "data": {
      "text/plain": [
       "Male      489\n",
       "Female    112\n",
       "Name: Gender, dtype: int64"
      ]
     },
     "execution_count": 13,
     "metadata": {},
     "output_type": "execute_result"
    }
   ],
   "source": [
    "train.Gender.value_counts()"
   ]
  },
  {
   "cell_type": "code",
   "execution_count": 14,
   "metadata": {},
   "outputs": [
    {
     "data": {
      "text/plain": [
       "Text(0.5, 1.0, 'Countplot-Property_Area')"
      ]
     },
     "execution_count": 14,
     "metadata": {},
     "output_type": "execute_result"
    },
    {
     "data": {
      "text/plain": [
       "<Figure size 432x288 with 0 Axes>"
      ]
     },
     "metadata": {},
     "output_type": "display_data"
    },
    {
     "data": {
      "image/png": "[encoded data removed]",
      "text/plain": [
       "<Figure size 1008x720 with 6 Axes>"
      ]
     },
     "metadata": {
      "needs_background": "light"
     },
     "output_type": "display_data"
    }
   ],
   "source": [
    "plt.figure(1)\n",
    "plt.figure(figsize=(14,10))\n",
    "plt.subplot(231)\n",
    "sns.countplot(x='Gender',data=train)\n",
    "plt.title('Countplot-Gender')\n",
    "\n",
    "plt.subplot(232)\n",
    "sns.countplot(x='Married',data=train)\n",
    "plt.title('Countplot-Married')\n",
    "\n",
    "plt.subplot(233)\n",
    "sns.countplot(x='Dependents',data=train)\n",
    "plt.title('Countplot-Dependents')\n",
    "\n",
    "plt.subplot(234)\n",
    "sns.countplot(x='Education',data=train)\n",
    "plt.title('Countplot-Education')\n",
    "\n",
    "plt.subplot(235)\n",
    "sns.countplot(x='Self_Employed',data=train)\n",
    "plt.title('Countplot-Self_Employed')\n",
    "\n",
    "plt.subplot(236)\n",
    "sns.countplot(x='Property_Area',data=train)\n",
    "plt.title('Countplot-Property_Area')\n",
    "\n"
   ]
  },
  {
   "cell_type": "markdown",
   "metadata": {},
   "source": [
    "1. More males compare to females\n",
    "2. Married peoples count is more as compare to unmarried\n",
    "3. More Graduates\n",
    "4. Dependency, count of 0 is more"
   ]
  },
  {
   "cell_type": "code",
   "execution_count": 15,
   "metadata": {},
   "outputs": [
    {
     "data": {
      "text/plain": [
       "Male      0.813644\n",
       "Female    0.186356\n",
       "Name: Gender, dtype: float64"
      ]
     },
     "execution_count": 15,
     "metadata": {},
     "output_type": "execute_result"
    }
   ],
   "source": [
    "train.Gender.value_counts(normalize=True)"
   ]
  },
  {
   "cell_type": "code",
   "execution_count": 16,
   "metadata": {},
   "outputs": [
    {
     "data": {
      "text/plain": [
       "[]"
      ]
     },
     "execution_count": 16,
     "metadata": {},
     "output_type": "execute_result"
    },
    {
     "data": {
      "image/png": "[encoded data removed]",
      "text/plain": [
       "<Figure size 432x288 with 1 Axes>"
      ]
     },
     "metadata": {
      "needs_background": "light"
     },
     "output_type": "display_data"
    }
   ],
   "source": [
    "sns.boxplot(x='Loan_Status',y='LoanAmount',data=train)\n",
    "plt.plot()"
   ]
  },
  {
   "cell_type": "code",
   "execution_count": 17,
   "metadata": {},
   "outputs": [
    {
     "data": {
      "text/plain": [
       "[]"
      ]
     },
     "execution_count": 17,
     "metadata": {},
     "output_type": "execute_result"
    },
    {
     "data": {
      "image/png": "[encoded data removed]",
      "text/plain": [
       "<Figure size 432x288 with 1 Axes>"
      ]
     },
     "metadata": {
      "needs_background": "light"
     },
     "output_type": "display_data"
    }
   ],
   "source": [
    "sns.boxplot(x='Loan_Status',y='ApplicantIncome',data=train)\n",
    "plt.plot()"
   ]
  },
  {
   "cell_type": "code",
   "execution_count": 18,
   "metadata": {},
   "outputs": [
    {
     "data": {
      "text/plain": [
       "[]"
      ]
     },
     "execution_count": 18,
     "metadata": {},
     "output_type": "execute_result"
    },
    {
     "data": {
      "image/png": "[encoded data removed]",
      "text/plain": [
       "<Figure size 432x288 with 1 Axes>"
      ]
     },
     "metadata": {
      "needs_background": "light"
     },
     "output_type": "display_data"
    }
   ],
   "source": [
    "sns.boxplot(x='Education',y='ApplicantIncome',data=train)\n",
    "plt.plot()"
   ]
  },
  {
   "cell_type": "code",
   "execution_count": 19,
   "metadata": {},
   "outputs": [
    {
     "data": {
      "text/plain": [
       "[]"
      ]
     },
     "execution_count": 19,
     "metadata": {},
     "output_type": "execute_result"
    },
    {
     "data": {
      "image/png": "[encoded data removed]",
      "text/plain": [
       "<Figure size 432x288 with 1 Axes>"
      ]
     },
     "metadata": {
      "needs_background": "light"
     },
     "output_type": "display_data"
    }
   ],
   "source": [
    "sns.countplot(x='Education', hue='Loan_Status',data=train)\n",
    "plt.plot()"
   ]
  },
  {
   "cell_type": "markdown",
   "metadata": {},
   "source": [
    "1. Graduates rate of loan approval is more as compare to non graduates"
   ]
  },
  {
   "cell_type": "code",
   "execution_count": 20,
   "metadata": {},
   "outputs": [
    {
     "data": {
      "text/plain": [
       "[]"
      ]
     },
     "execution_count": 20,
     "metadata": {},
     "output_type": "execute_result"
    },
    {
     "data": {
      "image/png": "[encoded data removed]",
      "text/plain": [
       "<Figure size 432x288 with 1 Axes>"
      ]
     },
     "metadata": {
      "needs_background": "light"
     },
     "output_type": "display_data"
    }
   ],
   "source": [
    "sns.countplot(x='Gender', hue='Loan_Status',data=train)\n",
    "plt.plot()"
   ]
  },
  {
   "cell_type": "markdown",
   "metadata": {},
   "source": [
    "1. Males get more loans then females"
   ]
  },
  {
   "cell_type": "code",
   "execution_count": 21,
   "metadata": {},
   "outputs": [
    {
     "data": {
      "text/plain": [
       "1.0    380\n",
       "0.0     63\n",
       "Name: Credit_History, dtype: int64"
      ]
     },
     "execution_count": 21,
     "metadata": {},
     "output_type": "execute_result"
    }
   ],
   "source": [
    "train[train.Education == 'Graduate']['Credit_History'].value_counts()"
   ]
  },
  {
   "cell_type": "code",
   "execution_count": 22,
   "metadata": {},
   "outputs": [
    {
     "data": {
      "text/plain": [
       "1.0    95\n",
       "0.0    26\n",
       "Name: Credit_History, dtype: int64"
      ]
     },
     "execution_count": 22,
     "metadata": {},
     "output_type": "execute_result"
    }
   ],
   "source": [
    "train[train.Education == 'Not Graduate']['Credit_History'].value_counts()"
   ]
  },
  {
   "cell_type": "code",
   "execution_count": 23,
   "metadata": {},
   "outputs": [
    {
     "data": {
      "text/plain": [
       "Loan_ID               0\n",
       "Gender               13\n",
       "Married               3\n",
       "Dependents           15\n",
       "Education             0\n",
       "Self_Employed        32\n",
       "ApplicantIncome       0\n",
       "CoapplicantIncome     0\n",
       "LoanAmount           22\n",
       "Loan_Amount_Term     14\n",
       "Credit_History       50\n",
       "Property_Area         0\n",
       "Loan_Status           0\n",
       "dtype: int64"
      ]
     },
     "execution_count": 23,
     "metadata": {},
     "output_type": "execute_result"
    }
   ],
   "source": [
    "train.isnull().sum()"
   ]
  },
  {
   "cell_type": "code",
   "execution_count": 24,
   "metadata": {},
   "outputs": [
    {
     "data": {
      "text/plain": [
       "Loan_ID               0\n",
       "Gender               11\n",
       "Married               0\n",
       "Dependents           10\n",
       "Education             0\n",
       "Self_Employed        23\n",
       "ApplicantIncome       0\n",
       "CoapplicantIncome     0\n",
       "LoanAmount            5\n",
       "Loan_Amount_Term      6\n",
       "Credit_History       29\n",
       "Property_Area         0\n",
       "dtype: int64"
      ]
     },
     "execution_count": 24,
     "metadata": {},
     "output_type": "execute_result"
    }
   ],
   "source": [
    "test.isnull().sum()"
   ]
  },
  {
   "cell_type": "code",
   "execution_count": 25,
   "metadata": {},
   "outputs": [
    {
     "data": {
      "text/plain": [
       "0.08143322475570032"
      ]
     },
     "execution_count": 25,
     "metadata": {},
     "output_type": "execute_result"
    }
   ],
   "source": [
    "50/train.shape[0]"
   ]
  },
  {
   "cell_type": "code",
   "execution_count": 26,
   "metadata": {},
   "outputs": [
    {
     "data": {
      "text/plain": [
       "360.0    512\n",
       "180.0     44\n",
       "480.0     15\n",
       "300.0     13\n",
       "84.0       4\n",
       "240.0      4\n",
       "120.0      3\n",
       "36.0       2\n",
       "60.0       2\n",
       "12.0       1\n",
       "Name: Loan_Amount_Term, dtype: int64"
      ]
     },
     "execution_count": 26,
     "metadata": {},
     "output_type": "execute_result"
    }
   ],
   "source": [
    "train.Loan_Amount_Term.value_counts()"
   ]
  },
  {
   "cell_type": "code",
   "execution_count": 27,
   "metadata": {},
   "outputs": [
    {
     "data": {
      "text/plain": [
       "0     345\n",
       "1     102\n",
       "2     101\n",
       "3+     51\n",
       "Name: Dependents, dtype: int64"
      ]
     },
     "execution_count": 27,
     "metadata": {},
     "output_type": "execute_result"
    }
   ],
   "source": [
    "train.Dependents.value_counts()#Rectify 3+ to 3"
   ]
  },
  {
   "cell_type": "code",
   "execution_count": 28,
   "metadata": {},
   "outputs": [],
   "source": [
    "train['Dependents'].replace(to_replace='3+', value=3, inplace=True)"
   ]
  },
  {
   "cell_type": "code",
   "execution_count": 29,
   "metadata": {},
   "outputs": [
    {
     "data": {
      "text/html": [
       "<div>\n",
       "<style scoped>\n",
       "    .dataframe tbody tr th:only-of-type {\n",
       "        vertical-align: middle;\n",
       "    }\n",
       "\n",
       "    .dataframe tbody tr th {\n",
       "        vertical-align: top;\n",
       "    }\n",
       "\n",
       "    .dataframe thead th {\n",
       "        text-align: right;\n",
       "    }\n",
       "</style>\n",
       "<table border=\"1\" class=\"dataframe\">\n",
       "  <thead>\n",
       "    <tr style=\"text-align: right;\">\n",
       "      <th></th>\n",
       "      <th>ApplicantIncome</th>\n",
       "      <th>CoapplicantIncome</th>\n",
       "      <th>LoanAmount</th>\n",
       "      <th>Loan_Amount_Term</th>\n",
       "      <th>Credit_History</th>\n",
       "    </tr>\n",
       "  </thead>\n",
       "  <tbody>\n",
       "    <tr>\n",
       "      <th>count</th>\n",
       "      <td>614.000000</td>\n",
       "      <td>614.000000</td>\n",
       "      <td>592.000000</td>\n",
       "      <td>600.00000</td>\n",
       "      <td>564.000000</td>\n",
       "    </tr>\n",
       "    <tr>\n",
       "      <th>mean</th>\n",
       "      <td>5403.459283</td>\n",
       "      <td>1621.245798</td>\n",
       "      <td>146.412162</td>\n",
       "      <td>342.00000</td>\n",
       "      <td>0.842199</td>\n",
       "    </tr>\n",
       "    <tr>\n",
       "      <th>std</th>\n",
       "      <td>6109.041673</td>\n",
       "      <td>2926.248369</td>\n",
       "      <td>85.587325</td>\n",
       "      <td>65.12041</td>\n",
       "      <td>0.364878</td>\n",
       "    </tr>\n",
       "    <tr>\n",
       "      <th>min</th>\n",
       "      <td>150.000000</td>\n",
       "      <td>0.000000</td>\n",
       "      <td>9.000000</td>\n",
       "      <td>12.00000</td>\n",
       "      <td>0.000000</td>\n",
       "    </tr>\n",
       "    <tr>\n",
       "      <th>25%</th>\n",
       "      <td>2877.500000</td>\n",
       "      <td>0.000000</td>\n",
       "      <td>100.000000</td>\n",
       "      <td>360.00000</td>\n",
       "      <td>1.000000</td>\n",
       "    </tr>\n",
       "    <tr>\n",
       "      <th>50%</th>\n",
       "      <td>3812.500000</td>\n",
       "      <td>1188.500000</td>\n",
       "      <td>128.000000</td>\n",
       "      <td>360.00000</td>\n",
       "      <td>1.000000</td>\n",
       "    </tr>\n",
       "    <tr>\n",
       "      <th>75%</th>\n",
       "      <td>5795.000000</td>\n",
       "      <td>2297.250000</td>\n",
       "      <td>168.000000</td>\n",
       "      <td>360.00000</td>\n",
       "      <td>1.000000</td>\n",
       "    </tr>\n",
       "    <tr>\n",
       "      <th>max</th>\n",
       "      <td>81000.000000</td>\n",
       "      <td>41667.000000</td>\n",
       "      <td>700.000000</td>\n",
       "      <td>480.00000</td>\n",
       "      <td>1.000000</td>\n",
       "    </tr>\n",
       "  </tbody>\n",
       "</table>\n",
       "</div>"
      ],
      "text/plain": [
       "       ApplicantIncome  CoapplicantIncome  LoanAmount  Loan_Amount_Term  \\\n",
       "count       614.000000         614.000000  592.000000         600.00000   \n",
       "mean       5403.459283        1621.245798  146.412162         342.00000   \n",
       "std        6109.041673        2926.248369   85.587325          65.12041   \n",
       "min         150.000000           0.000000    9.000000          12.00000   \n",
       "25%        2877.500000           0.000000  100.000000         360.00000   \n",
       "50%        3812.500000        1188.500000  128.000000         360.00000   \n",
       "75%        5795.000000        2297.250000  168.000000         360.00000   \n",
       "max       81000.000000       41667.000000  700.000000         480.00000   \n",
       "\n",
       "       Credit_History  \n",
       "count      564.000000  \n",
       "mean         0.842199  \n",
       "std          0.364878  \n",
       "min          0.000000  \n",
       "25%          1.000000  \n",
       "50%          1.000000  \n",
       "75%          1.000000  \n",
       "max          1.000000  "
      ]
     },
     "execution_count": 29,
     "metadata": {},
     "output_type": "execute_result"
    }
   ],
   "source": [
    "train.describe()"
   ]
  },
  {
   "cell_type": "code",
   "execution_count": 30,
   "metadata": {},
   "outputs": [],
   "source": [
    "train['Gender'].fillna(train.Gender.mode()[0], inplace=True)"
   ]
  },
  {
   "cell_type": "code",
   "execution_count": 31,
   "metadata": {},
   "outputs": [],
   "source": [
    "train['Married'].fillna(train.Married.mode()[0], inplace=True)\n",
    "train['Dependents'].fillna(train.Dependents.mode()[0], inplace=True)\n",
    "train['Self_Employed'].fillna(train.Self_Employed.mode()[0], inplace=True)"
   ]
  },
  {
   "cell_type": "code",
   "execution_count": 32,
   "metadata": {},
   "outputs": [
    {
     "data": {
      "text/plain": [
       "0    1.0\n",
       "dtype: float64"
      ]
     },
     "execution_count": 32,
     "metadata": {},
     "output_type": "execute_result"
    }
   ],
   "source": [
    "train['Gender'].mode()\n",
    "train.Credit_History.mode()"
   ]
  },
  {
   "cell_type": "code",
   "execution_count": 33,
   "metadata": {},
   "outputs": [],
   "source": [
    "#Imputing null values in numerical data\n",
    "train['LoanAmount'].fillna(train.LoanAmount.median(), inplace=True)\n",
    "train['Loan_Amount_Term'].fillna(train.Loan_Amount_Term.median(), inplace=True)\n",
    "train['Credit_History'].fillna(train.Credit_History.mode()[0], inplace=True)\n"
   ]
  },
  {
   "cell_type": "code",
   "execution_count": 34,
   "metadata": {},
   "outputs": [
    {
     "data": {
      "text/plain": [
       "128.0"
      ]
     },
     "execution_count": 34,
     "metadata": {},
     "output_type": "execute_result"
    }
   ],
   "source": [
    "train['LoanAmount'].median()"
   ]
  },
  {
   "cell_type": "code",
   "execution_count": 35,
   "metadata": {},
   "outputs": [],
   "source": [
    "#Imputing null values in test data\n",
    "test['Gender'].fillna(test.Gender.mode()[0], inplace=True)\n",
    "test['Dependents'].fillna(test.Dependents.mode()[0], inplace=True)\n",
    "test['Self_Employed'].fillna(test.Self_Employed.mode()[0], inplace=True)\n",
    "\n",
    "test['LoanAmount'].fillna(test.LoanAmount.median(), inplace=True)\n",
    "test['Loan_Amount_Term'].fillna(test.Loan_Amount_Term.median(), inplace=True)\n",
    "test['Credit_History'].fillna(test.Credit_History.mode()[0], inplace=True)\n"
   ]
  },
  {
   "cell_type": "code",
   "execution_count": 36,
   "metadata": {},
   "outputs": [],
   "source": [
    "#Basic model\n",
    "x = train.drop(['Loan_ID','Loan_Status'],axis=1)\n",
    "y = pd.DataFrame(train.pop('Loan_Status'))\n",
    "test_new = test.drop('Loan_ID', axis=1)"
   ]
  },
  {
   "cell_type": "code",
   "execution_count": 37,
   "metadata": {},
   "outputs": [],
   "source": [
    "x['Credit_History'] = x['Credit_History'].astype('object')\n",
    "test_new['Credit_History'] = test_new['Credit_History'].astype('object')"
   ]
  },
  {
   "cell_type": "code",
   "execution_count": 38,
   "metadata": {},
   "outputs": [
    {
     "data": {
      "text/plain": [
       "dtype('O')"
      ]
     },
     "execution_count": 38,
     "metadata": {},
     "output_type": "execute_result"
    }
   ],
   "source": [
    "test_new.Credit_History.dtype"
   ]
  },
  {
   "cell_type": "code",
   "execution_count": 39,
   "metadata": {},
   "outputs": [],
   "source": [
    "X = pd.get_dummies(x)\n",
    "X_test = pd.get_dummies(test_new)"
   ]
  },
  {
   "cell_type": "code",
   "execution_count": 40,
   "metadata": {},
   "outputs": [
    {
     "data": {
      "text/plain": [
       "Index(['ApplicantIncome', 'CoapplicantIncome', 'LoanAmount',\n",
       "       'Loan_Amount_Term', 'Gender_Female', 'Gender_Male', 'Married_No',\n",
       "       'Married_Yes', 'Dependents_3', 'Dependents_0', 'Dependents_1',\n",
       "       'Dependents_2', 'Education_Graduate', 'Education_Not Graduate',\n",
       "       'Self_Employed_No', 'Self_Employed_Yes', 'Credit_History_0.0',\n",
       "       'Credit_History_1.0', 'Property_Area_Rural', 'Property_Area_Semiurban',\n",
       "       'Property_Area_Urban'],\n",
       "      dtype='object')"
      ]
     },
     "execution_count": 40,
     "metadata": {},
     "output_type": "execute_result"
    }
   ],
   "source": [
    "X.columns"
   ]
  },
  {
   "cell_type": "code",
   "execution_count": 41,
   "metadata": {},
   "outputs": [
    {
     "data": {
      "text/plain": [
       "Index(['ApplicantIncome', 'CoapplicantIncome', 'LoanAmount',\n",
       "       'Loan_Amount_Term', 'Gender_Female', 'Gender_Male', 'Married_No',\n",
       "       'Married_Yes', 'Dependents_0', 'Dependents_1', 'Dependents_2',\n",
       "       'Dependents_3+', 'Education_Graduate', 'Education_Not Graduate',\n",
       "       'Self_Employed_No', 'Self_Employed_Yes', 'Credit_History_0.0',\n",
       "       'Credit_History_1.0', 'Property_Area_Rural', 'Property_Area_Semiurban',\n",
       "       'Property_Area_Urban'],\n",
       "      dtype='object')"
      ]
     },
     "execution_count": 41,
     "metadata": {},
     "output_type": "execute_result"
    }
   ],
   "source": [
    "X_test.columns"
   ]
  },
  {
   "cell_type": "code",
   "execution_count": 42,
   "metadata": {},
   "outputs": [],
   "source": [
    "from scipy.stats import zscore"
   ]
  },
  {
   "cell_type": "code",
   "execution_count": 43,
   "metadata": {},
   "outputs": [],
   "source": [
    "X_scaled = X.apply(zscore)\n",
    "X_test_scaled = X_test.apply(zscore)"
   ]
  },
  {
   "cell_type": "code",
   "execution_count": 44,
   "metadata": {},
   "outputs": [
    {
     "data": {
      "text/html": [
       "<div>\n",
       "<style scoped>\n",
       "    .dataframe tbody tr th:only-of-type {\n",
       "        vertical-align: middle;\n",
       "    }\n",
       "\n",
       "    .dataframe tbody tr th {\n",
       "        vertical-align: top;\n",
       "    }\n",
       "\n",
       "    .dataframe thead th {\n",
       "        text-align: right;\n",
       "    }\n",
       "</style>\n",
       "<table border=\"1\" class=\"dataframe\">\n",
       "  <thead>\n",
       "    <tr style=\"text-align: right;\">\n",
       "      <th></th>\n",
       "      <th>ApplicantIncome</th>\n",
       "      <th>CoapplicantIncome</th>\n",
       "      <th>LoanAmount</th>\n",
       "      <th>Loan_Amount_Term</th>\n",
       "      <th>Gender_Female</th>\n",
       "      <th>Gender_Male</th>\n",
       "      <th>Married_No</th>\n",
       "      <th>Married_Yes</th>\n",
       "      <th>Dependents_3</th>\n",
       "      <th>Dependents_0</th>\n",
       "      <th>...</th>\n",
       "      <th>Dependents_2</th>\n",
       "      <th>Education_Graduate</th>\n",
       "      <th>Education_Not Graduate</th>\n",
       "      <th>Self_Employed_No</th>\n",
       "      <th>Self_Employed_Yes</th>\n",
       "      <th>Credit_History_0.0</th>\n",
       "      <th>Credit_History_1.0</th>\n",
       "      <th>Property_Area_Rural</th>\n",
       "      <th>Property_Area_Semiurban</th>\n",
       "      <th>Property_Area_Urban</th>\n",
       "    </tr>\n",
       "  </thead>\n",
       "  <tbody>\n",
       "    <tr>\n",
       "      <th>count</th>\n",
       "      <td>6.140000e+02</td>\n",
       "      <td>6.140000e+02</td>\n",
       "      <td>6.140000e+02</td>\n",
       "      <td>6.140000e+02</td>\n",
       "      <td>6.140000e+02</td>\n",
       "      <td>6.140000e+02</td>\n",
       "      <td>6.140000e+02</td>\n",
       "      <td>6.140000e+02</td>\n",
       "      <td>6.140000e+02</td>\n",
       "      <td>6.140000e+02</td>\n",
       "      <td>...</td>\n",
       "      <td>6.140000e+02</td>\n",
       "      <td>6.140000e+02</td>\n",
       "      <td>6.140000e+02</td>\n",
       "      <td>6.140000e+02</td>\n",
       "      <td>6.140000e+02</td>\n",
       "      <td>6.140000e+02</td>\n",
       "      <td>6.140000e+02</td>\n",
       "      <td>6.140000e+02</td>\n",
       "      <td>6.140000e+02</td>\n",
       "      <td>6.140000e+02</td>\n",
       "    </tr>\n",
       "    <tr>\n",
       "      <th>mean</th>\n",
       "      <td>-2.694189e-17</td>\n",
       "      <td>-3.977998e-18</td>\n",
       "      <td>-7.910791e-18</td>\n",
       "      <td>1.795524e-16</td>\n",
       "      <td>3.616362e-17</td>\n",
       "      <td>-6.364796e-17</td>\n",
       "      <td>-1.612897e-16</td>\n",
       "      <td>2.064942e-16</td>\n",
       "      <td>7.919832e-17</td>\n",
       "      <td>1.649061e-16</td>\n",
       "      <td>...</td>\n",
       "      <td>-1.123784e-16</td>\n",
       "      <td>-1.121072e-17</td>\n",
       "      <td>1.121072e-17</td>\n",
       "      <td>5.496870e-17</td>\n",
       "      <td>-1.338054e-16</td>\n",
       "      <td>-1.634595e-16</td>\n",
       "      <td>8.317632e-17</td>\n",
       "      <td>-4.292621e-16</td>\n",
       "      <td>1.330821e-16</td>\n",
       "      <td>6.585395e-16</td>\n",
       "    </tr>\n",
       "    <tr>\n",
       "      <th>std</th>\n",
       "      <td>1.000815e+00</td>\n",
       "      <td>1.000815e+00</td>\n",
       "      <td>1.000815e+00</td>\n",
       "      <td>1.000815e+00</td>\n",
       "      <td>1.000815e+00</td>\n",
       "      <td>1.000815e+00</td>\n",
       "      <td>1.000815e+00</td>\n",
       "      <td>1.000815e+00</td>\n",
       "      <td>1.000815e+00</td>\n",
       "      <td>1.000815e+00</td>\n",
       "      <td>...</td>\n",
       "      <td>1.000815e+00</td>\n",
       "      <td>1.000815e+00</td>\n",
       "      <td>1.000815e+00</td>\n",
       "      <td>1.000815e+00</td>\n",
       "      <td>1.000815e+00</td>\n",
       "      <td>1.000815e+00</td>\n",
       "      <td>1.000815e+00</td>\n",
       "      <td>1.000815e+00</td>\n",
       "      <td>1.000815e+00</td>\n",
       "      <td>1.000815e+00</td>\n",
       "    </tr>\n",
       "    <tr>\n",
       "      <th>min</th>\n",
       "      <td>-8.606493e-01</td>\n",
       "      <td>-5.544873e-01</td>\n",
       "      <td>-1.627255e+00</td>\n",
       "      <td>-5.132498e+00</td>\n",
       "      <td>-4.723426e-01</td>\n",
       "      <td>-2.117107e+00</td>\n",
       "      <td>-7.288155e-01</td>\n",
       "      <td>-1.372089e+00</td>\n",
       "      <td>-3.009753e-01</td>\n",
       "      <td>-1.190514e+00</td>\n",
       "      <td>...</td>\n",
       "      <td>-4.437128e-01</td>\n",
       "      <td>-1.892641e+00</td>\n",
       "      <td>-5.283622e-01</td>\n",
       "      <td>-2.547117e+00</td>\n",
       "      <td>-3.926007e-01</td>\n",
       "      <td>-4.117327e-01</td>\n",
       "      <td>-2.428760e+00</td>\n",
       "      <td>-6.414782e-01</td>\n",
       "      <td>-7.820157e-01</td>\n",
       "      <td>-7.002080e-01</td>\n",
       "    </tr>\n",
       "    <tr>\n",
       "      <th>25%</th>\n",
       "      <td>-4.138159e-01</td>\n",
       "      <td>-5.544873e-01</td>\n",
       "      <td>-5.414462e-01</td>\n",
       "      <td>2.732313e-01</td>\n",
       "      <td>-4.723426e-01</td>\n",
       "      <td>4.723426e-01</td>\n",
       "      <td>-7.288155e-01</td>\n",
       "      <td>-1.372089e+00</td>\n",
       "      <td>-3.009753e-01</td>\n",
       "      <td>-1.190514e+00</td>\n",
       "      <td>...</td>\n",
       "      <td>-4.437128e-01</td>\n",
       "      <td>5.283622e-01</td>\n",
       "      <td>-5.283622e-01</td>\n",
       "      <td>3.926007e-01</td>\n",
       "      <td>-3.926007e-01</td>\n",
       "      <td>-4.117327e-01</td>\n",
       "      <td>4.117327e-01</td>\n",
       "      <td>-6.414782e-01</td>\n",
       "      <td>-7.820157e-01</td>\n",
       "      <td>-7.002080e-01</td>\n",
       "    </tr>\n",
       "    <tr>\n",
       "      <th>50%</th>\n",
       "      <td>-2.606393e-01</td>\n",
       "      <td>-1.480047e-01</td>\n",
       "      <td>-2.112412e-01</td>\n",
       "      <td>2.732313e-01</td>\n",
       "      <td>-4.723426e-01</td>\n",
       "      <td>4.723426e-01</td>\n",
       "      <td>-7.288155e-01</td>\n",
       "      <td>7.288155e-01</td>\n",
       "      <td>-3.009753e-01</td>\n",
       "      <td>8.399735e-01</td>\n",
       "      <td>...</td>\n",
       "      <td>-4.437128e-01</td>\n",
       "      <td>5.283622e-01</td>\n",
       "      <td>-5.283622e-01</td>\n",
       "      <td>3.926007e-01</td>\n",
       "      <td>-3.926007e-01</td>\n",
       "      <td>-4.117327e-01</td>\n",
       "      <td>4.117327e-01</td>\n",
       "      <td>-6.414782e-01</td>\n",
       "      <td>-7.820157e-01</td>\n",
       "      <td>-7.002080e-01</td>\n",
       "    </tr>\n",
       "    <tr>\n",
       "      <th>75%</th>\n",
       "      <td>6.414426e-02</td>\n",
       "      <td>2.312023e-01</td>\n",
       "      <td>2.260572e-01</td>\n",
       "      <td>2.732313e-01</td>\n",
       "      <td>-4.723426e-01</td>\n",
       "      <td>4.723426e-01</td>\n",
       "      <td>1.372089e+00</td>\n",
       "      <td>7.288155e-01</td>\n",
       "      <td>-3.009753e-01</td>\n",
       "      <td>8.399735e-01</td>\n",
       "      <td>...</td>\n",
       "      <td>-4.437128e-01</td>\n",
       "      <td>5.283622e-01</td>\n",
       "      <td>-5.283622e-01</td>\n",
       "      <td>3.926007e-01</td>\n",
       "      <td>-3.926007e-01</td>\n",
       "      <td>-4.117327e-01</td>\n",
       "      <td>4.117327e-01</td>\n",
       "      <td>1.558899e+00</td>\n",
       "      <td>1.278747e+00</td>\n",
       "      <td>1.428147e+00</td>\n",
       "    </tr>\n",
       "    <tr>\n",
       "      <th>max</th>\n",
       "      <td>1.238462e+01</td>\n",
       "      <td>1.369617e+01</td>\n",
       "      <td>6.595146e+00</td>\n",
       "      <td>2.137276e+00</td>\n",
       "      <td>2.117107e+00</td>\n",
       "      <td>4.723426e-01</td>\n",
       "      <td>1.372089e+00</td>\n",
       "      <td>7.288155e-01</td>\n",
       "      <td>3.322532e+00</td>\n",
       "      <td>8.399735e-01</td>\n",
       "      <td>...</td>\n",
       "      <td>2.253710e+00</td>\n",
       "      <td>5.283622e-01</td>\n",
       "      <td>1.892641e+00</td>\n",
       "      <td>3.926007e-01</td>\n",
       "      <td>2.547117e+00</td>\n",
       "      <td>2.428760e+00</td>\n",
       "      <td>4.117327e-01</td>\n",
       "      <td>1.558899e+00</td>\n",
       "      <td>1.278747e+00</td>\n",
       "      <td>1.428147e+00</td>\n",
       "    </tr>\n",
       "  </tbody>\n",
       "</table>\n",
       "<p>8 rows × 21 columns</p>\n",
       "</div>"
      ],
      "text/plain": [
       "       ApplicantIncome  CoapplicantIncome    LoanAmount  Loan_Amount_Term  \\\n",
       "count     6.140000e+02       6.140000e+02  6.140000e+02      6.140000e+02   \n",
       "mean     -2.694189e-17      -3.977998e-18 -7.910791e-18      1.795524e-16   \n",
       "std       1.000815e+00       1.000815e+00  1.000815e+00      1.000815e+00   \n",
       "min      -8.606493e-01      -5.544873e-01 -1.627255e+00     -5.132498e+00   \n",
       "25%      -4.138159e-01      -5.544873e-01 -5.414462e-01      2.732313e-01   \n",
       "50%      -2.606393e-01      -1.480047e-01 -2.112412e-01      2.732313e-01   \n",
       "75%       6.414426e-02       2.312023e-01  2.260572e-01      2.732313e-01   \n",
       "max       1.238462e+01       1.369617e+01  6.595146e+00      2.137276e+00   \n",
       "\n",
       "       Gender_Female   Gender_Male    Married_No   Married_Yes  Dependents_3  \\\n",
       "count   6.140000e+02  6.140000e+02  6.140000e+02  6.140000e+02  6.140000e+02   \n",
       "mean    3.616362e-17 -6.364796e-17 -1.612897e-16  2.064942e-16  7.919832e-17   \n",
       "std     1.000815e+00  1.000815e+00  1.000815e+00  1.000815e+00  1.000815e+00   \n",
       "min    -4.723426e-01 -2.117107e+00 -7.288155e-01 -1.372089e+00 -3.009753e-01   \n",
       "25%    -4.723426e-01  4.723426e-01 -7.288155e-01 -1.372089e+00 -3.009753e-01   \n",
       "50%    -4.723426e-01  4.723426e-01 -7.288155e-01  7.288155e-01 -3.009753e-01   \n",
       "75%    -4.723426e-01  4.723426e-01  1.372089e+00  7.288155e-01 -3.009753e-01   \n",
       "max     2.117107e+00  4.723426e-01  1.372089e+00  7.288155e-01  3.322532e+00   \n",
       "\n",
       "       Dependents_0         ...           Dependents_2  Education_Graduate  \\\n",
       "count  6.140000e+02         ...           6.140000e+02        6.140000e+02   \n",
       "mean   1.649061e-16         ...          -1.123784e-16       -1.121072e-17   \n",
       "std    1.000815e+00         ...           1.000815e+00        1.000815e+00   \n",
       "min   -1.190514e+00         ...          -4.437128e-01       -1.892641e+00   \n",
       "25%   -1.190514e+00         ...          -4.437128e-01        5.283622e-01   \n",
       "50%    8.399735e-01         ...          -4.437128e-01        5.283622e-01   \n",
       "75%    8.399735e-01         ...          -4.437128e-01        5.283622e-01   \n",
       "max    8.399735e-01         ...           2.253710e+00        5.283622e-01   \n",
       "\n",
       "       Education_Not Graduate  Self_Employed_No  Self_Employed_Yes  \\\n",
       "count            6.140000e+02      6.140000e+02       6.140000e+02   \n",
       "mean             1.121072e-17      5.496870e-17      -1.338054e-16   \n",
       "std              1.000815e+00      1.000815e+00       1.000815e+00   \n",
       "min             -5.283622e-01     -2.547117e+00      -3.926007e-01   \n",
       "25%             -5.283622e-01      3.926007e-01      -3.926007e-01   \n",
       "50%             -5.283622e-01      3.926007e-01      -3.926007e-01   \n",
       "75%             -5.283622e-01      3.926007e-01      -3.926007e-01   \n",
       "max              1.892641e+00      3.926007e-01       2.547117e+00   \n",
       "\n",
       "       Credit_History_0.0  Credit_History_1.0  Property_Area_Rural  \\\n",
       "count        6.140000e+02        6.140000e+02         6.140000e+02   \n",
       "mean        -1.634595e-16        8.317632e-17        -4.292621e-16   \n",
       "std          1.000815e+00        1.000815e+00         1.000815e+00   \n",
       "min         -4.117327e-01       -2.428760e+00        -6.414782e-01   \n",
       "25%         -4.117327e-01        4.117327e-01        -6.414782e-01   \n",
       "50%         -4.117327e-01        4.117327e-01        -6.414782e-01   \n",
       "75%         -4.117327e-01        4.117327e-01         1.558899e+00   \n",
       "max          2.428760e+00        4.117327e-01         1.558899e+00   \n",
       "\n",
       "       Property_Area_Semiurban  Property_Area_Urban  \n",
       "count             6.140000e+02         6.140000e+02  \n",
       "mean              1.330821e-16         6.585395e-16  \n",
       "std               1.000815e+00         1.000815e+00  \n",
       "min              -7.820157e-01        -7.002080e-01  \n",
       "25%              -7.820157e-01        -7.002080e-01  \n",
       "50%              -7.820157e-01        -7.002080e-01  \n",
       "75%               1.278747e+00         1.428147e+00  \n",
       "max               1.278747e+00         1.428147e+00  \n",
       "\n",
       "[8 rows x 21 columns]"
      ]
     },
     "execution_count": 44,
     "metadata": {},
     "output_type": "execute_result"
    }
   ],
   "source": [
    "X_scaled.describe()"
   ]
  },
  {
   "cell_type": "code",
   "execution_count": 45,
   "metadata": {},
   "outputs": [],
   "source": [
    "from sklearn.tree import DecisionTreeClassifier\n",
    "from sklearn.linear_model import LogisticRegression\n",
    "from sklearn.ensemble import RandomForestClassifier\n",
    "model1 = LogisticRegression()\n",
    "model2 = DecisionTreeClassifier(criterion='entropy',random_state=100)\n",
    "model3 = RandomForestClassifier(criterion='entropy',random_state=123)"
   ]
  },
  {
   "cell_type": "code",
   "execution_count": 46,
   "metadata": {},
   "outputs": [],
   "source": [
    "y_pred1 = model1.fit(X_scaled,y).predict(X_test_scaled)"
   ]
  },
  {
   "cell_type": "code",
   "execution_count": 47,
   "metadata": {},
   "outputs": [],
   "source": [
    "submission_lor = pd.DataFrame({\n",
    "        \"Loan_ID\": test[\"Loan_ID\"],\n",
    "        \"Loan_Status\": y_pred1})\n",
    "submission_lor.to_csv('submission_lor.csv', index=False)"
   ]
  },
  {
   "cell_type": "markdown",
   "metadata": {},
   "source": [
    "Logistic regression gives an accuracy of 0.7777."
   ]
  },
  {
   "cell_type": "code",
   "execution_count": 48,
   "metadata": {},
   "outputs": [
    {
     "name": "stdout",
     "output_type": "stream",
     "text": [
      "C:\\Users\\SEXY\n"
     ]
    }
   ],
   "source": [
    "cd"
   ]
  },
  {
   "cell_type": "code",
   "execution_count": 49,
   "metadata": {},
   "outputs": [],
   "source": [
    "y_pred2 = model2.fit(X_scaled,y).predict(X_test_scaled)\n",
    "submission_tree = pd.DataFrame({'Loan_ID':test['Loan_ID'],'Loan_Status':y_pred2})\n",
    "submission_tree.to_csv('submission_tree.csv' , index=False)"
   ]
  },
  {
   "cell_type": "markdown",
   "metadata": {},
   "source": [
    "Decision Tree gives an accuracy of 0.666."
   ]
  },
  {
   "cell_type": "code",
   "execution_count": 50,
   "metadata": {},
   "outputs": [],
   "source": [
    "y_pred3 = model3.fit(X_scaled,y).predict(X_test_scaled)\n",
    "submission_rfc = pd.DataFrame({'Loan_ID':test['Loan_ID'],'Loan_Status':y_pred3})\n",
    "submission_rfc.to_csv('submission_rfc.csv' , index=False)"
   ]
  },
  {
   "cell_type": "markdown",
   "metadata": {},
   "source": [
    "Random Forest gives an accuracy of 0.75."
   ]
  },
  {
   "cell_type": "code",
   "execution_count": 51,
   "metadata": {},
   "outputs": [],
   "source": [
    "from sklearn.neighbors import KNeighborsClassifier\n",
    "from sklearn.model_selection import train_test_split"
   ]
  },
  {
   "cell_type": "code",
   "execution_count": 52,
   "metadata": {},
   "outputs": [],
   "source": [
    "x_train, x_test, y_train, y_test = train_test_split(X_scaled,y,test_size=0.3,random_state=100)"
   ]
  },
  {
   "cell_type": "code",
   "execution_count": 53,
   "metadata": {},
   "outputs": [
    {
     "data": {
      "text/plain": [
       "[]"
      ]
     },
     "execution_count": 53,
     "metadata": {},
     "output_type": "execute_result"
    },
    {
     "data": {
      "image/png": "[encoded data removed]",
      "text/plain": [
       "<Figure size 432x288 with 1 Axes>"
      ]
     },
     "metadata": {
      "needs_background": "light"
     },
     "output_type": "display_data"
    }
   ],
   "source": [
    "from sklearn.metrics import accuracy_score\n",
    "accu = []\n",
    "error = []\n",
    "for i in range(1,10):\n",
    "    neigh = KNeighborsClassifier(n_neighbors=i).fit(x_train, y_train)\n",
    "    y_predict = neigh.predict(x_test)\n",
    "    accu.append(accuracy_score(y_test,y_predict))\n",
    "    error.append(1-accuracy_score(y_test,y_predict))\n",
    "    \n",
    "    \n",
    "#plot accuracy vs neighbours graph\n",
    "plt.plot(range(1,10),accu,'r')\n",
    "plt.plot(range(1,10),error,'g')\n",
    "plt.xlabel('Neighbours')\n",
    "plt.ylabel('accuracy')\n",
    "plt.plot()"
   ]
  },
  {
   "cell_type": "markdown",
   "metadata": {},
   "source": [
    "1. The appropriate neighbours for this model is 7"
   ]
  },
  {
   "cell_type": "code",
   "execution_count": 54,
   "metadata": {},
   "outputs": [],
   "source": [
    "model4 = KNeighborsClassifier(n_neighbors=7)\n",
    "y_pred4 = model4.fit(X_scaled,y).predict(X_test_scaled)\n",
    "submission_knn = pd.DataFrame({'Loan_ID':test['Loan_ID'],'Loan_Status':y_pred4})\n",
    "submission_knn.to_csv('submission_knn.csv' , index=False)\n"
   ]
  },
  {
   "cell_type": "markdown",
   "metadata": {},
   "source": [
    "KNN gives an accuracy of 0.7702."
   ]
  },
  {
   "cell_type": "markdown",
   "metadata": {},
   "source": [
    "# Bagging and Boosting"
   ]
  },
  {
   "cell_type": "code",
   "execution_count": 55,
   "metadata": {},
   "outputs": [],
   "source": [
    "from sklearn.ensemble import BaggingClassifier"
   ]
  },
  {
   "cell_type": "code",
   "execution_count": 56,
   "metadata": {},
   "outputs": [],
   "source": [
    "from sklearn.model_selection import GridSearchCV\n",
    "param_grid1 = {\n",
    "    'bootstrap': [True],\n",
    "    'max_depth': list(range(1,10)),\n",
    "    'max_features': list(range(5,22)),\n",
    "    'min_samples_leaf': [3, 4],\n",
    "    'min_samples_split': [5,10],\n",
    "    'n_estimators': [5,6,7,10,20,30]\n",
    "}    "
   ]
  },
  {
   "cell_type": "code",
   "execution_count": 57,
   "metadata": {},
   "outputs": [],
   "source": [
    "grid_search = GridSearchCV(estimator = model3, param_grid = param_grid1, \n",
    "                          cv = 3, n_jobs = 1, verbose = 0, return_train_score=True)"
   ]
  },
  {
   "cell_type": "code",
   "execution_count": 58,
   "metadata": {
    "scrolled": true
   },
   "outputs": [
    {
     "data": {
      "text/plain": [
       "GridSearchCV(cv=3, error_score='raise-deprecating',\n",
       "       estimator=RandomForestClassifier(bootstrap=True, class_weight=None, criterion='entropy',\n",
       "            max_depth=None, max_features='auto', max_leaf_nodes=None,\n",
       "            min_impurity_decrease=0.0, min_impurity_split=None,\n",
       "            min_samples_leaf=1, min_samples_split=2,\n",
       "            min_weight_fraction_leaf=0.0, n_estimators=10, n_jobs=None,\n",
       "            oob_score=False, random_state=123, verbose=0, warm_start=False),\n",
       "       fit_params=None, iid='warn', n_jobs=1,\n",
       "       param_grid={'bootstrap': [True], 'max_depth': [1, 2, 3, 4, 5, 6, 7, 8, 9], 'max_features': [5, 6, 7, 8, 9, 10, 11, 12, 13, 14, 15, 16, 17, 18, 19, 20, 21], 'min_samples_leaf': [3, 4], 'min_samples_split': [5, 10], 'n_estimators': [5, 6, 7, 10, 20, 30]},\n",
       "       pre_dispatch='2*n_jobs', refit=True, return_train_score=True,\n",
       "       scoring=None, verbose=0)"
      ]
     },
     "execution_count": 58,
     "metadata": {},
     "output_type": "execute_result"
    }
   ],
   "source": [
    "grid_search.fit(X,y)"
   ]
  },
  {
   "cell_type": "code",
   "execution_count": 59,
   "metadata": {},
   "outputs": [
    {
     "data": {
      "text/plain": [
       "{'bootstrap': True,\n",
       " 'max_depth': 5,\n",
       " 'max_features': 13,\n",
       " 'min_samples_leaf': 4,\n",
       " 'min_samples_split': 10,\n",
       " 'n_estimators': 7}"
      ]
     },
     "execution_count": 59,
     "metadata": {},
     "output_type": "execute_result"
    }
   ],
   "source": [
    "grid_search.best_params_"
   ]
  },
  {
   "cell_type": "code",
   "execution_count": 60,
   "metadata": {},
   "outputs": [],
   "source": [
    "best_grid = grid_search.best_estimator_"
   ]
  },
  {
   "cell_type": "code",
   "execution_count": 61,
   "metadata": {},
   "outputs": [
    {
     "data": {
      "text/plain": [
       "RandomForestClassifier(bootstrap=True, class_weight=None, criterion='entropy',\n",
       "            max_depth=5, max_features=13, max_leaf_nodes=None,\n",
       "            min_impurity_decrease=0.0, min_impurity_split=None,\n",
       "            min_samples_leaf=4, min_samples_split=10,\n",
       "            min_weight_fraction_leaf=0.0, n_estimators=7, n_jobs=None,\n",
       "            oob_score=False, random_state=123, verbose=0, warm_start=False)"
      ]
     },
     "execution_count": 61,
     "metadata": {},
     "output_type": "execute_result"
    }
   ],
   "source": [
    "best_grid"
   ]
  },
  {
   "cell_type": "code",
   "execution_count": 62,
   "metadata": {},
   "outputs": [],
   "source": [
    "y_pred5 = best_grid.predict(X_test)\n",
    "submission_rfc_GS = pd.DataFrame({'Loan_ID':test['Loan_ID'],'Loan_Status':y_pred5})\n",
    "submission_rfc_GS.to_csv('submission_rfc_GS.csv' , index=False)"
   ]
  },
  {
   "cell_type": "markdown",
   "metadata": {},
   "source": [
    "With grid search random forest gives accuracy of 0.7702."
   ]
  },
  {
   "cell_type": "markdown",
   "metadata": {},
   "source": [
    "# Support vector Machine"
   ]
  },
  {
   "cell_type": "code",
   "execution_count": 63,
   "metadata": {},
   "outputs": [],
   "source": [
    "from sklearn.svm import SVC"
   ]
  },
  {
   "cell_type": "code",
   "execution_count": 64,
   "metadata": {},
   "outputs": [
    {
     "data": {
      "text/plain": [
       "SVC(C=1.0, cache_size=200, class_weight=None, coef0=0.0,\n",
       "  decision_function_shape='ovr', degree=3, gamma='auto_deprecated',\n",
       "  kernel='rbf', max_iter=-1, probability=False, random_state=None,\n",
       "  shrinking=True, tol=0.001, verbose=False)"
      ]
     },
     "execution_count": 64,
     "metadata": {},
     "output_type": "execute_result"
    }
   ],
   "source": [
    "model6 = SVC()\n",
    "model6.fit(X_scaled,y)"
   ]
  },
  {
   "cell_type": "code",
   "execution_count": 65,
   "metadata": {},
   "outputs": [],
   "source": [
    "y_pred6 = model6.predict(X_test_scaled)\n",
    "submission_svc = pd.DataFrame({'Loan_ID':test['Loan_ID'],'Loan_Status':y_pred6})\n",
    "submission_svc.to_csv('submission_svc.csv' , index=False)"
   ]
  },
  {
   "cell_type": "markdown",
   "metadata": {},
   "source": [
    "SVC gives an accuracy of 0.777."
   ]
  },
  {
   "cell_type": "markdown",
   "metadata": {},
   "source": [
    "# Decision Tree with Bagging"
   ]
  },
  {
   "cell_type": "code",
   "execution_count": 66,
   "metadata": {},
   "outputs": [
    {
     "data": {
      "text/plain": [
       "BaggingClassifier(base_estimator=DecisionTreeClassifier(class_weight=None, criterion='entropy', max_depth=None,\n",
       "            max_features=None, max_leaf_nodes=None,\n",
       "            min_impurity_decrease=0.0, min_impurity_split=None,\n",
       "            min_samples_leaf=1, min_samples_split=2,\n",
       "            min_weight_fraction_leaf=0.0, presort=False, random_state=100,\n",
       "            splitter='best'),\n",
       "         bootstrap=True, bootstrap_features=False, max_features=1.0,\n",
       "         max_samples=1.0, n_estimators=10, n_jobs=None, oob_score=False,\n",
       "         random_state=None, verbose=0, warm_start=False)"
      ]
     },
     "execution_count": 66,
     "metadata": {},
     "output_type": "execute_result"
    }
   ],
   "source": [
    "model7 = BaggingClassifier(base_estimator=model2)\n",
    "model7.fit(X,y)"
   ]
  },
  {
   "cell_type": "code",
   "execution_count": 67,
   "metadata": {},
   "outputs": [],
   "source": [
    "y_pred7 = model7.predict(X_test)\n",
    "submission_BaggedTree = pd.DataFrame({'Loan_ID':test['Loan_ID'],'Loan_Status':y_pred7})\n",
    "submission_BaggedTree.to_csv('submission_BaggedTree.csv' , index=False)"
   ]
  },
  {
   "cell_type": "markdown",
   "metadata": {},
   "source": [
    "Decision Tree with Bagging gives an accuracy of 0.75"
   ]
  }
 ],
 "metadata": {
  "kernelspec": {
   "display_name": "Python 3",
   "language": "python",
   "name": "python3"
  },
  "language_info": {
   "codemirror_mode": {
    "name": "ipython",
    "version": 3
   },
   "file_extension": ".py",
   "mimetype": "text/x-python",
   "name": "python",
   "nbconvert_exporter": "python",
   "pygments_lexer": "ipython3",
   "version": "3.7.1"
  }
 },
 "nbformat": 4,
 "nbformat_minor": 2
}
